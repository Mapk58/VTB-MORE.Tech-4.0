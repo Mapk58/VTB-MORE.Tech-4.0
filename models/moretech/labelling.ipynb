{
 "cells": [
  {
   "cell_type": "code",
   "execution_count": 3,
   "metadata": {},
   "outputs": [],
   "source": [
    "from basic_vectorizer import TextVectorizer\n",
    "import numpy as np\n",
    "import pandas as pd\n",
    "import torch\n",
    "from torch import nn\n",
    "import string\n",
    "import re\n",
    "import pickle"
   ]
  },
  {
   "cell_type": "code",
   "execution_count": 4,
   "metadata": {},
   "outputs": [],
   "source": [
    "df1 = pd.read_csv('data/accountant/buh.csv')\n",
    "df2 = pd.read_csv('data/ceo/busskapital.csv')\n",
    "df3 = pd.read_csv('data/ceo/forbes_business.csv')\n",
    "df4 = pd.read_csv('data/ceo/investnique.csv')\n",
    "df5 = pd.read_csv('data/ceo/ppt_ru.csv')"
   ]
  },
  {
   "cell_type": "code",
   "execution_count": 5,
   "metadata": {},
   "outputs": [
    {
     "data": {
      "text/html": [
       "<div>\n",
       "<style scoped>\n",
       "    .dataframe tbody tr th:only-of-type {\n",
       "        vertical-align: middle;\n",
       "    }\n",
       "\n",
       "    .dataframe tbody tr th {\n",
       "        vertical-align: top;\n",
       "    }\n",
       "\n",
       "    .dataframe thead th {\n",
       "        text-align: right;\n",
       "    }\n",
       "</style>\n",
       "<table border=\"1\" class=\"dataframe\">\n",
       "  <thead>\n",
       "    <tr style=\"text-align: right;\">\n",
       "      <th></th>\n",
       "      <th>Unnamed: 0</th>\n",
       "      <th>text</th>\n",
       "      <th>data</th>\n",
       "    </tr>\n",
       "  </thead>\n",
       "  <tbody>\n",
       "    <tr>\n",
       "      <th>0</th>\n",
       "      <td>0</td>\n",
       "      <td>Редакция БУХ.1С напоминает о самых позитивных ...</td>\n",
       "      <td>2022-10-07 00:00:00</td>\n",
       "    </tr>\n",
       "    <tr>\n",
       "      <th>1</th>\n",
       "      <td>1</td>\n",
       "      <td>12 октября 2022 в 10:00 по местному времени фи...</td>\n",
       "      <td>2022-10-07 00:00:00</td>\n",
       "    </tr>\n",
       "    <tr>\n",
       "      <th>2</th>\n",
       "      <td>2</td>\n",
       "      <td>С 7 октября 2022 года вступили в силу поправки...</td>\n",
       "      <td>2022-10-07 00:00:00</td>\n",
       "    </tr>\n",
       "    <tr>\n",
       "      <th>3</th>\n",
       "      <td>3</td>\n",
       "      <td>Эксперты Роструда разъяснили, вправе ли работо...</td>\n",
       "      <td>2022-10-07 00:00:00</td>\n",
       "    </tr>\n",
       "    <tr>\n",
       "      <th>4</th>\n",
       "      <td>4</td>\n",
       "      <td>На странице 1С:Лектория опубликована видеозапи...</td>\n",
       "      <td>2022-10-07 00:00:00</td>\n",
       "    </tr>\n",
       "    <tr>\n",
       "      <th>...</th>\n",
       "      <td>...</td>\n",
       "      <td>...</td>\n",
       "      <td>...</td>\n",
       "    </tr>\n",
       "    <tr>\n",
       "      <th>4466</th>\n",
       "      <td>4466</td>\n",
       "      <td>С 2021 года изменился порядок расчета НДФЛ с д...</td>\n",
       "      <td>2021-03-02 00:00:00</td>\n",
       "    </tr>\n",
       "    <tr>\n",
       "      <th>4467</th>\n",
       "      <td>4467</td>\n",
       "      <td>С 25 августа 2021 года срок аккредитации иност...</td>\n",
       "      <td>2021-03-02 00:00:00</td>\n",
       "    </tr>\n",
       "    <tr>\n",
       "      <th>4468</th>\n",
       "      <td>4468</td>\n",
       "      <td>Эксперты ФНС уточнили в ходе вебинара, когда п...</td>\n",
       "      <td>2021-03-02 00:00:00</td>\n",
       "    </tr>\n",
       "    <tr>\n",
       "      <th>4469</th>\n",
       "      <td>4469</td>\n",
       "      <td>Эксперты Роструда разъяснили, может ли работод...</td>\n",
       "      <td>2021-03-02 00:00:00</td>\n",
       "    </tr>\n",
       "    <tr>\n",
       "      <th>4470</th>\n",
       "      <td>4470</td>\n",
       "      <td>ФНС подготовила формы и формат реестров докуме...</td>\n",
       "      <td>2021-03-02 00:00:00</td>\n",
       "    </tr>\n",
       "  </tbody>\n",
       "</table>\n",
       "<p>4471 rows × 3 columns</p>\n",
       "</div>"
      ],
      "text/plain": [
       "      Unnamed: 0                                               text  \\\n",
       "0              0  Редакция БУХ.1С напоминает о самых позитивных ...   \n",
       "1              1  12 октября 2022 в 10:00 по местному времени фи...   \n",
       "2              2  С 7 октября 2022 года вступили в силу поправки...   \n",
       "3              3  Эксперты Роструда разъяснили, вправе ли работо...   \n",
       "4              4  На странице 1С:Лектория опубликована видеозапи...   \n",
       "...          ...                                                ...   \n",
       "4466        4466  С 2021 года изменился порядок расчета НДФЛ с д...   \n",
       "4467        4467  С 25 августа 2021 года срок аккредитации иност...   \n",
       "4468        4468  Эксперты ФНС уточнили в ходе вебинара, когда п...   \n",
       "4469        4469  Эксперты Роструда разъяснили, может ли работод...   \n",
       "4470        4470  ФНС подготовила формы и формат реестров докуме...   \n",
       "\n",
       "                     data  \n",
       "0     2022-10-07 00:00:00  \n",
       "1     2022-10-07 00:00:00  \n",
       "2     2022-10-07 00:00:00  \n",
       "3     2022-10-07 00:00:00  \n",
       "4     2022-10-07 00:00:00  \n",
       "...                   ...  \n",
       "4466  2021-03-02 00:00:00  \n",
       "4467  2021-03-02 00:00:00  \n",
       "4468  2021-03-02 00:00:00  \n",
       "4469  2021-03-02 00:00:00  \n",
       "4470  2021-03-02 00:00:00  \n",
       "\n",
       "[4471 rows x 3 columns]"
      ]
     },
     "execution_count": 5,
     "metadata": {},
     "output_type": "execute_result"
    }
   ],
   "source": [
    "df1"
   ]
  },
  {
   "cell_type": "code",
   "execution_count": 6,
   "metadata": {},
   "outputs": [
    {
     "data": {
      "text/plain": [
       "0       Редакция БУХ.1С напоминает о самых позитивных ...\n",
       "1       12 октября 2022 в 10:00 по местному времени фи...\n",
       "2       С 7 октября 2022 года вступили в силу поправки...\n",
       "3       Эксперты Роструда разъяснили, вправе ли работо...\n",
       "4       На странице 1С:Лектория опубликована видеозапи...\n",
       "                              ...                        \n",
       "1541    Изменение Воздушного кодекса РФ с 8 января 202...\n",
       "1542    Генпрокуратура опубликовала сводный план прове...\n",
       "1543    Изменение Уголовно-процессуального кодекса РФ ...\n",
       "1544    Что изменится для самозанятых граждан в 2020 г...\n",
       "1545    Повышение зарплат и пенсий военным в 2020 году...\n",
       "Name: text, Length: 10269, dtype: object"
      ]
     },
     "execution_count": 6,
     "metadata": {},
     "output_type": "execute_result"
    }
   ],
   "source": [
    "data = pd.concat([df1, df2, df3, df4, df5]).text\n",
    "data"
   ]
  },
  {
   "cell_type": "code",
   "execution_count": 13,
   "metadata": {},
   "outputs": [
    {
     "name": "stderr",
     "output_type": "stream",
     "text": [
      "[nltk_data] Downloading package punkt to\n",
      "[nltk_data]     /Users/alexzzmtsvv/nltk_data...\n",
      "[nltk_data]   Package punkt is already up-to-date!\n",
      "[nltk_data] Downloading package stopwords to\n",
      "[nltk_data]     /Users/alexzzmtsvv/nltk_data...\n",
      "[nltk_data]   Package stopwords is already up-to-date!\n"
     ]
    }
   ],
   "source": [
    "topic_model = TextVectorizer()"
   ]
  },
  {
   "cell_type": "code",
   "execution_count": 14,
   "metadata": {},
   "outputs": [],
   "source": [
    "class DatasetFixer:\n",
    "    def __init__(self) -> None:\n",
    "        pass\n",
    "\n",
    "    def remove_punctuations(self, text):\n",
    "        removed = text.translate(str.maketrans('', '', string.punctuation))\n",
    "        return removed\n",
    "\n",
    "    def remove_special_symbols(self, text):\n",
    "        symbols = [\"\\n\", \"\\r\", \"\\xa0\", \"\\u200b\"]\n",
    "        for symbol in symbols:\n",
    "            text = text.replace(symbol, \" \")\n",
    "\n",
    "        return text\n",
    "    \n",
    "    def remove_extra_spaces(self, text):\n",
    "        removed = re.sub(' +', ' ', text).strip()\n",
    "        return removed\n",
    "    \n",
    "    def preprocess_description(self, text):\n",
    "        preprocessed = text.strip().lower()\n",
    "        preprocessed = self.remove_special_symbols(preprocessed)\n",
    "        preprocessed = self.remove_punctuations(preprocessed)\n",
    "        preprocessed = self.remove_extra_spaces(preprocessed)\n",
    "        \n",
    "        return preprocessed"
   ]
  },
  {
   "cell_type": "code",
   "execution_count": 15,
   "metadata": {},
   "outputs": [],
   "source": [
    "cleaner = DatasetFixer()\n",
    "train_data = []\n",
    "\n",
    "for news in data.values:\n",
    "    try:\n",
    "        sample = topic_model.proccess_text(cleaner.preprocess_description(news))\n",
    "        train_data.append(' '.join(sample))\n",
    "    except:\n",
    "        continue\n"
   ]
  },
  {
   "cell_type": "code",
   "execution_count": 8,
   "metadata": {},
   "outputs": [],
   "source": [
    "topic_model.fit(train_data)"
   ]
  },
  {
   "cell_type": "code",
   "execution_count": null,
   "metadata": {},
   "outputs": [],
   "source": [
    "topic_model.plot_top_words(20, 'Topics')"
   ]
  },
  {
   "cell_type": "code",
   "execution_count": 14,
   "metadata": {},
   "outputs": [],
   "source": [
    "with open('count_vectorizer.pkl', 'wb') as f:\n",
    "    pickle.dump(topic_model.count, f)"
   ]
  },
  {
   "cell_type": "code",
   "execution_count": 15,
   "metadata": {},
   "outputs": [],
   "source": [
    "with open('latent_dirichlet_allocation.pkl', 'wb') as f:\n",
    "    pickle.dump(topic_model.topic_model, f)"
   ]
  },
  {
   "cell_type": "markdown",
   "metadata": {},
   "source": [
    "Делаем датасет в соответствии с отраслевыми лейблами"
   ]
  },
  {
   "cell_type": "code",
   "execution_count": 16,
   "metadata": {},
   "outputs": [],
   "source": [
    "dataset = topic_model.make_labeled_dataset(train_data)"
   ]
  },
  {
   "cell_type": "code",
   "execution_count": 19,
   "metadata": {},
   "outputs": [
    {
     "data": {
      "text/plain": [
       "'редакция бух 1 напоминать самый позитивный бухгалтерский новость уходить неделя минэкономразвития определить коэффициентыдефлятор 2023 год согласно проект приказ коэффициентдефлятор необходимый цель применение усн следующий год составить 1257 это значит 2023 год предельный величина доход применение упрощённый система налогообложение составить 18855 млн рубль 2514 млн рубль соответственно минфин предложить упростить правило лицензирование производитель продавец импортёр алкогольный спиртосодержащий продукция частность подготовить министерство поправка сокращать срок рассмотрение заявление соискатель лицензия осуществление деятельность производство оборот \\u200e исключение розничный продажа этиловый спирт также законопроект сокращать перечень документ необходимый получение лицензия осуществление деятельность производство \\u200e оборот спирт алкогольный \\u200e спиртосодержащий продукция премьерминистр михаил мишустин подписать правительственный постановление согласно который 2023 год плановый проверка проводиться отношение предприятие организация деятельность который отнести категория чрезвычайно высокий высокий риск соответственно отношение иной предприятие организация отнести категория умеренный среднее значительный риск плановый проверка 2023 год проводиться кроме 7 октябрь 2022 год вступить сила федеральный закон 07102022 № 377 фз который давать право гражданин призвать военный служба рамка мобилизация также член семья оформить кредитный каникулы глава роструд михаил иванков сообщить ведомство разработать новый алгоритм работа обращение гражданин который позволять работодатель устранить нарушение штраф « ранее поступление жалоба нарушение трудовой право сразу организовывать проверочный мероприятие работодатель ход проверка даваться оценка информация который приводиться обращение выявление нарушение работодатель возможность добровольно санкция устранить нарушение запускать алгоритм работа который давать возможность » отметить михаил иванков'"
      ]
     },
     "execution_count": 19,
     "metadata": {},
     "output_type": "execute_result"
    }
   ],
   "source": [
    "dataset[0][0]"
   ]
  },
  {
   "cell_type": "code",
   "execution_count": 21,
   "metadata": {},
   "outputs": [],
   "source": [
    "df = pd.DataFrame(dataset, columns=['news', 'label'])\n",
    "df.to_csv('industry_labeled.csv')"
   ]
  },
  {
   "cell_type": "code",
   "execution_count": 9,
   "metadata": {},
   "outputs": [],
   "source": [
    "# бухгалтеры - df1\n",
    "# руководители - df2-df5\n",
    "\n",
    "df1['label'] = 0\n",
    "df2['label'] = 1\n",
    "df3['label'] = 1\n",
    "df4['label'] = 1\n",
    "df5['label'] = 1"
   ]
  },
  {
   "cell_type": "code",
   "execution_count": 25,
   "metadata": {},
   "outputs": [
    {
     "data": {
      "text/plain": [
       "array([0, 0, 0, ..., 1, 1, 1])"
      ]
     },
     "execution_count": 25,
     "metadata": {},
     "output_type": "execute_result"
    }
   ],
   "source": [
    "labels = pd.concat([df1['label'], df2['label'], df3['label'], df4['label'], df5['label']]).values\n",
    "\n",
    "labels"
   ]
  },
  {
   "cell_type": "code",
   "execution_count": 26,
   "metadata": {},
   "outputs": [],
   "source": [
    "dataset = [(text, label) for text, label in zip(train_data, labels)]"
   ]
  },
  {
   "cell_type": "code",
   "execution_count": 27,
   "metadata": {},
   "outputs": [],
   "source": [
    "out = pd.DataFrame(dataset, columns=['news', 'label'])"
   ]
  },
  {
   "cell_type": "code",
   "execution_count": 29,
   "metadata": {},
   "outputs": [],
   "source": [
    "out.to_csv('profession_labeled.csv')"
   ]
  },
  {
   "cell_type": "code",
   "execution_count": null,
   "metadata": {},
   "outputs": [],
   "source": []
  }
 ],
 "metadata": {
  "kernelspec": {
   "display_name": "Python 3.9.12 ('base')",
   "language": "python",
   "name": "python3"
  },
  "language_info": {
   "codemirror_mode": {
    "name": "ipython",
    "version": 3
   },
   "file_extension": ".py",
   "mimetype": "text/x-python",
   "name": "python",
   "nbconvert_exporter": "python",
   "pygments_lexer": "ipython3",
   "version": "3.9.12"
  },
  "orig_nbformat": 4,
  "vscode": {
   "interpreter": {
    "hash": "40d3a090f54c6569ab1632332b64b2c03c39dcf918b08424e98f38b5ae0af88f"
   }
  }
 },
 "nbformat": 4,
 "nbformat_minor": 2
}
